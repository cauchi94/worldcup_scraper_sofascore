{
 "cells": [
  {
   "cell_type": "code",
   "execution_count": null,
   "id": "7251c532",
   "metadata": {},
   "outputs": [],
   "source": [
    "# Install requests-html package to parse HTML\n",
    "\n",
    "#pip install requests-html\n",
    "#pip install fake-useragent"
   ]
  },
  {
   "cell_type": "code",
   "execution_count": 11,
   "id": "fe421c09",
   "metadata": {},
   "outputs": [],
   "source": [
    "# Import Libraries\n",
    "\n",
    "import requests\n",
    "from bs4 import BeautifulSoup\n",
    "import json\n",
    "import random\n",
    "import concurrent.futures\n",
    "import time\n",
    "import pandas as pd\n",
    "\n",
    "from fake_useragent import UserAgent\n",
    "\n",
    "from datetime import datetime"
   ]
  },
  {
   "cell_type": "markdown",
   "id": "ab9b1ffa",
   "metadata": {},
   "source": [
    "Please select the World Cup Edition for which you want to scrape data from the list below. In the following example, ID 41087 corresponds to the 2022 World Cup, while ID 15586 corresponds to the 2018 World Cup. Simply click on one of the links below to find the equivalent for another World Cup edition."
   ]
  },
  {
   "cell_type": "code",
   "execution_count": 12,
   "id": "f8002924",
   "metadata": {},
   "outputs": [
    {
     "name": "stdout",
     "output_type": "stream",
     "text": [
      "41087\n"
     ]
    }
   ],
   "source": [
    "# World Cup 2018 ID: 41087\n",
    "# World Cup 2022 ID: 15586\n",
    "\n",
    "id = str(input())"
   ]
  },
  {
   "cell_type": "code",
   "execution_count": 14,
   "id": "7a156949",
   "metadata": {},
   "outputs": [
    {
     "name": "stderr",
     "output_type": "stream",
     "text": [
      "Error occurred during loading data. Trying to use cache server https://fake-useragent.herokuapp.com/browsers/0.1.11\n",
      "Traceback (most recent call last):\n",
      "  File \"C:\\Users\\chris\\anaconda3\\lib\\site-packages\\fake_useragent\\utils.py\", line 154, in load\n",
      "    for item in get_browsers(verify_ssl=verify_ssl):\n",
      "  File \"C:\\Users\\chris\\anaconda3\\lib\\site-packages\\fake_useragent\\utils.py\", line 99, in get_browsers\n",
      "    html = html.split('<table class=\"w3-table-all notranslate\">')[1]\n",
      "IndexError: list index out of range\n"
     ]
    },
    {
     "ename": "FakeUserAgentError",
     "evalue": "Maximum amount of retries reached",
     "output_type": "error",
     "traceback": [
      "\u001b[1;31m---------------------------------------------------------------------------\u001b[0m",
      "\u001b[1;31mIndexError\u001b[0m                                Traceback (most recent call last)",
      "\u001b[1;32m~\\anaconda3\\lib\\site-packages\\fake_useragent\\utils.py\u001b[0m in \u001b[0;36mload\u001b[1;34m(use_cache_server, verify_ssl)\u001b[0m\n\u001b[0;32m    153\u001b[0m     \u001b[1;32mtry\u001b[0m\u001b[1;33m:\u001b[0m\u001b[1;33m\u001b[0m\u001b[1;33m\u001b[0m\u001b[0m\n\u001b[1;32m--> 154\u001b[1;33m         \u001b[1;32mfor\u001b[0m \u001b[0mitem\u001b[0m \u001b[1;32min\u001b[0m \u001b[0mget_browsers\u001b[0m\u001b[1;33m(\u001b[0m\u001b[0mverify_ssl\u001b[0m\u001b[1;33m=\u001b[0m\u001b[0mverify_ssl\u001b[0m\u001b[1;33m)\u001b[0m\u001b[1;33m:\u001b[0m\u001b[1;33m\u001b[0m\u001b[1;33m\u001b[0m\u001b[0m\n\u001b[0m\u001b[0;32m    155\u001b[0m             \u001b[0mbrowser\u001b[0m\u001b[1;33m,\u001b[0m \u001b[0mpercent\u001b[0m \u001b[1;33m=\u001b[0m \u001b[0mitem\u001b[0m\u001b[1;33m\u001b[0m\u001b[1;33m\u001b[0m\u001b[0m\n",
      "\u001b[1;32m~\\anaconda3\\lib\\site-packages\\fake_useragent\\utils.py\u001b[0m in \u001b[0;36mget_browsers\u001b[1;34m(verify_ssl)\u001b[0m\n\u001b[0;32m     98\u001b[0m     \u001b[0mhtml\u001b[0m \u001b[1;33m=\u001b[0m \u001b[0mhtml\u001b[0m\u001b[1;33m.\u001b[0m\u001b[0mdecode\u001b[0m\u001b[1;33m(\u001b[0m\u001b[1;34m'utf-8'\u001b[0m\u001b[1;33m)\u001b[0m\u001b[1;33m\u001b[0m\u001b[1;33m\u001b[0m\u001b[0m\n\u001b[1;32m---> 99\u001b[1;33m     \u001b[0mhtml\u001b[0m \u001b[1;33m=\u001b[0m \u001b[0mhtml\u001b[0m\u001b[1;33m.\u001b[0m\u001b[0msplit\u001b[0m\u001b[1;33m(\u001b[0m\u001b[1;34m'<table class=\"w3-table-all notranslate\">'\u001b[0m\u001b[1;33m)\u001b[0m\u001b[1;33m[\u001b[0m\u001b[1;36m1\u001b[0m\u001b[1;33m]\u001b[0m\u001b[1;33m\u001b[0m\u001b[1;33m\u001b[0m\u001b[0m\n\u001b[0m\u001b[0;32m    100\u001b[0m     \u001b[0mhtml\u001b[0m \u001b[1;33m=\u001b[0m \u001b[0mhtml\u001b[0m\u001b[1;33m.\u001b[0m\u001b[0msplit\u001b[0m\u001b[1;33m(\u001b[0m\u001b[1;34m'</table>'\u001b[0m\u001b[1;33m)\u001b[0m\u001b[1;33m[\u001b[0m\u001b[1;36m0\u001b[0m\u001b[1;33m]\u001b[0m\u001b[1;33m\u001b[0m\u001b[1;33m\u001b[0m\u001b[0m\n",
      "\u001b[1;31mIndexError\u001b[0m: list index out of range",
      "\nDuring handling of the above exception, another exception occurred:\n",
      "\u001b[1;31mHTTPError\u001b[0m                                 Traceback (most recent call last)",
      "\u001b[1;32m~\\anaconda3\\lib\\site-packages\\fake_useragent\\utils.py\u001b[0m in \u001b[0;36mget\u001b[1;34m(url, verify_ssl)\u001b[0m\n\u001b[0;32m     63\u001b[0m \u001b[1;33m\u001b[0m\u001b[0m\n\u001b[1;32m---> 64\u001b[1;33m                 with contextlib.closing(urlopen(\n\u001b[0m\u001b[0;32m     65\u001b[0m                     \u001b[0mrequest\u001b[0m\u001b[1;33m,\u001b[0m\u001b[1;33m\u001b[0m\u001b[1;33m\u001b[0m\u001b[0m\n",
      "\u001b[1;32m~\\anaconda3\\lib\\urllib\\request.py\u001b[0m in \u001b[0;36murlopen\u001b[1;34m(url, data, timeout, cafile, capath, cadefault, context)\u001b[0m\n\u001b[0;32m    213\u001b[0m         \u001b[0mopener\u001b[0m \u001b[1;33m=\u001b[0m \u001b[0m_opener\u001b[0m\u001b[1;33m\u001b[0m\u001b[1;33m\u001b[0m\u001b[0m\n\u001b[1;32m--> 214\u001b[1;33m     \u001b[1;32mreturn\u001b[0m \u001b[0mopener\u001b[0m\u001b[1;33m.\u001b[0m\u001b[0mopen\u001b[0m\u001b[1;33m(\u001b[0m\u001b[0murl\u001b[0m\u001b[1;33m,\u001b[0m \u001b[0mdata\u001b[0m\u001b[1;33m,\u001b[0m \u001b[0mtimeout\u001b[0m\u001b[1;33m)\u001b[0m\u001b[1;33m\u001b[0m\u001b[1;33m\u001b[0m\u001b[0m\n\u001b[0m\u001b[0;32m    215\u001b[0m \u001b[1;33m\u001b[0m\u001b[0m\n",
      "\u001b[1;32m~\\anaconda3\\lib\\urllib\\request.py\u001b[0m in \u001b[0;36mopen\u001b[1;34m(self, fullurl, data, timeout)\u001b[0m\n\u001b[0;32m    522\u001b[0m             \u001b[0mmeth\u001b[0m \u001b[1;33m=\u001b[0m \u001b[0mgetattr\u001b[0m\u001b[1;33m(\u001b[0m\u001b[0mprocessor\u001b[0m\u001b[1;33m,\u001b[0m \u001b[0mmeth_name\u001b[0m\u001b[1;33m)\u001b[0m\u001b[1;33m\u001b[0m\u001b[1;33m\u001b[0m\u001b[0m\n\u001b[1;32m--> 523\u001b[1;33m             \u001b[0mresponse\u001b[0m \u001b[1;33m=\u001b[0m \u001b[0mmeth\u001b[0m\u001b[1;33m(\u001b[0m\u001b[0mreq\u001b[0m\u001b[1;33m,\u001b[0m \u001b[0mresponse\u001b[0m\u001b[1;33m)\u001b[0m\u001b[1;33m\u001b[0m\u001b[1;33m\u001b[0m\u001b[0m\n\u001b[0m\u001b[0;32m    524\u001b[0m \u001b[1;33m\u001b[0m\u001b[0m\n",
      "\u001b[1;32m~\\anaconda3\\lib\\urllib\\request.py\u001b[0m in \u001b[0;36mhttp_response\u001b[1;34m(self, request, response)\u001b[0m\n\u001b[0;32m    631\u001b[0m         \u001b[1;32mif\u001b[0m \u001b[1;32mnot\u001b[0m \u001b[1;33m(\u001b[0m\u001b[1;36m200\u001b[0m \u001b[1;33m<=\u001b[0m \u001b[0mcode\u001b[0m \u001b[1;33m<\u001b[0m \u001b[1;36m300\u001b[0m\u001b[1;33m)\u001b[0m\u001b[1;33m:\u001b[0m\u001b[1;33m\u001b[0m\u001b[1;33m\u001b[0m\u001b[0m\n\u001b[1;32m--> 632\u001b[1;33m             response = self.parent.error(\n\u001b[0m\u001b[0;32m    633\u001b[0m                 'http', request, response, code, msg, hdrs)\n",
      "\u001b[1;32m~\\anaconda3\\lib\\urllib\\request.py\u001b[0m in \u001b[0;36merror\u001b[1;34m(self, proto, *args)\u001b[0m\n\u001b[0;32m    560\u001b[0m             \u001b[0margs\u001b[0m \u001b[1;33m=\u001b[0m \u001b[1;33m(\u001b[0m\u001b[0mdict\u001b[0m\u001b[1;33m,\u001b[0m \u001b[1;34m'default'\u001b[0m\u001b[1;33m,\u001b[0m \u001b[1;34m'http_error_default'\u001b[0m\u001b[1;33m)\u001b[0m \u001b[1;33m+\u001b[0m \u001b[0morig_args\u001b[0m\u001b[1;33m\u001b[0m\u001b[1;33m\u001b[0m\u001b[0m\n\u001b[1;32m--> 561\u001b[1;33m             \u001b[1;32mreturn\u001b[0m \u001b[0mself\u001b[0m\u001b[1;33m.\u001b[0m\u001b[0m_call_chain\u001b[0m\u001b[1;33m(\u001b[0m\u001b[1;33m*\u001b[0m\u001b[0margs\u001b[0m\u001b[1;33m)\u001b[0m\u001b[1;33m\u001b[0m\u001b[1;33m\u001b[0m\u001b[0m\n\u001b[0m\u001b[0;32m    562\u001b[0m \u001b[1;33m\u001b[0m\u001b[0m\n",
      "\u001b[1;32m~\\anaconda3\\lib\\urllib\\request.py\u001b[0m in \u001b[0;36m_call_chain\u001b[1;34m(self, chain, kind, meth_name, *args)\u001b[0m\n\u001b[0;32m    493\u001b[0m             \u001b[0mfunc\u001b[0m \u001b[1;33m=\u001b[0m \u001b[0mgetattr\u001b[0m\u001b[1;33m(\u001b[0m\u001b[0mhandler\u001b[0m\u001b[1;33m,\u001b[0m \u001b[0mmeth_name\u001b[0m\u001b[1;33m)\u001b[0m\u001b[1;33m\u001b[0m\u001b[1;33m\u001b[0m\u001b[0m\n\u001b[1;32m--> 494\u001b[1;33m             \u001b[0mresult\u001b[0m \u001b[1;33m=\u001b[0m \u001b[0mfunc\u001b[0m\u001b[1;33m(\u001b[0m\u001b[1;33m*\u001b[0m\u001b[0margs\u001b[0m\u001b[1;33m)\u001b[0m\u001b[1;33m\u001b[0m\u001b[1;33m\u001b[0m\u001b[0m\n\u001b[0m\u001b[0;32m    495\u001b[0m             \u001b[1;32mif\u001b[0m \u001b[0mresult\u001b[0m \u001b[1;32mis\u001b[0m \u001b[1;32mnot\u001b[0m \u001b[1;32mNone\u001b[0m\u001b[1;33m:\u001b[0m\u001b[1;33m\u001b[0m\u001b[1;33m\u001b[0m\u001b[0m\n",
      "\u001b[1;32m~\\anaconda3\\lib\\urllib\\request.py\u001b[0m in \u001b[0;36mhttp_error_default\u001b[1;34m(self, req, fp, code, msg, hdrs)\u001b[0m\n\u001b[0;32m    640\u001b[0m     \u001b[1;32mdef\u001b[0m \u001b[0mhttp_error_default\u001b[0m\u001b[1;33m(\u001b[0m\u001b[0mself\u001b[0m\u001b[1;33m,\u001b[0m \u001b[0mreq\u001b[0m\u001b[1;33m,\u001b[0m \u001b[0mfp\u001b[0m\u001b[1;33m,\u001b[0m \u001b[0mcode\u001b[0m\u001b[1;33m,\u001b[0m \u001b[0mmsg\u001b[0m\u001b[1;33m,\u001b[0m \u001b[0mhdrs\u001b[0m\u001b[1;33m)\u001b[0m\u001b[1;33m:\u001b[0m\u001b[1;33m\u001b[0m\u001b[1;33m\u001b[0m\u001b[0m\n\u001b[1;32m--> 641\u001b[1;33m         \u001b[1;32mraise\u001b[0m \u001b[0mHTTPError\u001b[0m\u001b[1;33m(\u001b[0m\u001b[0mreq\u001b[0m\u001b[1;33m.\u001b[0m\u001b[0mfull_url\u001b[0m\u001b[1;33m,\u001b[0m \u001b[0mcode\u001b[0m\u001b[1;33m,\u001b[0m \u001b[0mmsg\u001b[0m\u001b[1;33m,\u001b[0m \u001b[0mhdrs\u001b[0m\u001b[1;33m,\u001b[0m \u001b[0mfp\u001b[0m\u001b[1;33m)\u001b[0m\u001b[1;33m\u001b[0m\u001b[1;33m\u001b[0m\u001b[0m\n\u001b[0m\u001b[0;32m    642\u001b[0m \u001b[1;33m\u001b[0m\u001b[0m\n",
      "\u001b[1;31mHTTPError\u001b[0m: HTTP Error 503: Service Unavailable",
      "\nDuring handling of the above exception, another exception occurred:\n",
      "\u001b[1;31mFakeUserAgentError\u001b[0m                        Traceback (most recent call last)",
      "\u001b[1;32m~\\AppData\\Local\\Temp/ipykernel_9252/790950303.py\u001b[0m in \u001b[0;36m<module>\u001b[1;34m\u001b[0m\n\u001b[0;32m      5\u001b[0m \u001b[1;33m\u001b[0m\u001b[0m\n\u001b[0;32m      6\u001b[0m \u001b[1;31m# Store collected data at your OS Temporary Directory (/tmp)\u001b[0m\u001b[1;33m\u001b[0m\u001b[1;33m\u001b[0m\u001b[0m\n\u001b[1;32m----> 7\u001b[1;33m \u001b[0mua\u001b[0m \u001b[1;33m=\u001b[0m \u001b[0mUserAgent\u001b[0m\u001b[1;33m(\u001b[0m\u001b[1;33m)\u001b[0m\u001b[1;33m\u001b[0m\u001b[1;33m\u001b[0m\u001b[0m\n\u001b[0m\u001b[0;32m      8\u001b[0m \u001b[1;33m\u001b[0m\u001b[0m\n\u001b[0;32m      9\u001b[0m \u001b[1;31m# Use 'ua.ie' or 'ua.random' to get User-Agent\u001b[0m\u001b[1;33m\u001b[0m\u001b[1;33m\u001b[0m\u001b[0m\n",
      "\u001b[1;32m~\\anaconda3\\lib\\site-packages\\fake_useragent\\fake.py\u001b[0m in \u001b[0;36m__init__\u001b[1;34m(self, cache, use_cache_server, path, fallback, verify_ssl, safe_attrs)\u001b[0m\n\u001b[0;32m     67\u001b[0m         \u001b[0mself\u001b[0m\u001b[1;33m.\u001b[0m\u001b[0mdata_browsers\u001b[0m \u001b[1;33m=\u001b[0m \u001b[1;33m{\u001b[0m\u001b[1;33m}\u001b[0m\u001b[1;33m\u001b[0m\u001b[1;33m\u001b[0m\u001b[0m\n\u001b[0;32m     68\u001b[0m \u001b[1;33m\u001b[0m\u001b[0m\n\u001b[1;32m---> 69\u001b[1;33m         \u001b[0mself\u001b[0m\u001b[1;33m.\u001b[0m\u001b[0mload\u001b[0m\u001b[1;33m(\u001b[0m\u001b[1;33m)\u001b[0m\u001b[1;33m\u001b[0m\u001b[1;33m\u001b[0m\u001b[0m\n\u001b[0m\u001b[0;32m     70\u001b[0m \u001b[1;33m\u001b[0m\u001b[0m\n\u001b[0;32m     71\u001b[0m     \u001b[1;32mdef\u001b[0m \u001b[0mload\u001b[0m\u001b[1;33m(\u001b[0m\u001b[0mself\u001b[0m\u001b[1;33m)\u001b[0m\u001b[1;33m:\u001b[0m\u001b[1;33m\u001b[0m\u001b[1;33m\u001b[0m\u001b[0m\n",
      "\u001b[1;32m~\\anaconda3\\lib\\site-packages\\fake_useragent\\fake.py\u001b[0m in \u001b[0;36mload\u001b[1;34m(self)\u001b[0m\n\u001b[0;32m     73\u001b[0m             \u001b[1;32mwith\u001b[0m \u001b[0mself\u001b[0m\u001b[1;33m.\u001b[0m\u001b[0mload\u001b[0m\u001b[1;33m.\u001b[0m\u001b[0mlock\u001b[0m\u001b[1;33m:\u001b[0m\u001b[1;33m\u001b[0m\u001b[1;33m\u001b[0m\u001b[0m\n\u001b[0;32m     74\u001b[0m                 \u001b[1;32mif\u001b[0m \u001b[0mself\u001b[0m\u001b[1;33m.\u001b[0m\u001b[0mcache\u001b[0m\u001b[1;33m:\u001b[0m\u001b[1;33m\u001b[0m\u001b[1;33m\u001b[0m\u001b[0m\n\u001b[1;32m---> 75\u001b[1;33m                     self.data = load_cached(\n\u001b[0m\u001b[0;32m     76\u001b[0m                         \u001b[0mself\u001b[0m\u001b[1;33m.\u001b[0m\u001b[0mpath\u001b[0m\u001b[1;33m,\u001b[0m\u001b[1;33m\u001b[0m\u001b[1;33m\u001b[0m\u001b[0m\n\u001b[0;32m     77\u001b[0m                         \u001b[0muse_cache_server\u001b[0m\u001b[1;33m=\u001b[0m\u001b[0mself\u001b[0m\u001b[1;33m.\u001b[0m\u001b[0muse_cache_server\u001b[0m\u001b[1;33m,\u001b[0m\u001b[1;33m\u001b[0m\u001b[1;33m\u001b[0m\u001b[0m\n",
      "\u001b[1;32m~\\anaconda3\\lib\\site-packages\\fake_useragent\\utils.py\u001b[0m in \u001b[0;36mload_cached\u001b[1;34m(path, use_cache_server, verify_ssl)\u001b[0m\n\u001b[0;32m    248\u001b[0m \u001b[1;32mdef\u001b[0m \u001b[0mload_cached\u001b[0m\u001b[1;33m(\u001b[0m\u001b[0mpath\u001b[0m\u001b[1;33m,\u001b[0m \u001b[0muse_cache_server\u001b[0m\u001b[1;33m=\u001b[0m\u001b[1;32mTrue\u001b[0m\u001b[1;33m,\u001b[0m \u001b[0mverify_ssl\u001b[0m\u001b[1;33m=\u001b[0m\u001b[1;32mTrue\u001b[0m\u001b[1;33m)\u001b[0m\u001b[1;33m:\u001b[0m\u001b[1;33m\u001b[0m\u001b[1;33m\u001b[0m\u001b[0m\n\u001b[0;32m    249\u001b[0m     \u001b[1;32mif\u001b[0m \u001b[1;32mnot\u001b[0m \u001b[0mexist\u001b[0m\u001b[1;33m(\u001b[0m\u001b[0mpath\u001b[0m\u001b[1;33m)\u001b[0m\u001b[1;33m:\u001b[0m\u001b[1;33m\u001b[0m\u001b[1;33m\u001b[0m\u001b[0m\n\u001b[1;32m--> 250\u001b[1;33m         \u001b[0mupdate\u001b[0m\u001b[1;33m(\u001b[0m\u001b[0mpath\u001b[0m\u001b[1;33m,\u001b[0m \u001b[0muse_cache_server\u001b[0m\u001b[1;33m=\u001b[0m\u001b[0muse_cache_server\u001b[0m\u001b[1;33m,\u001b[0m \u001b[0mverify_ssl\u001b[0m\u001b[1;33m=\u001b[0m\u001b[0mverify_ssl\u001b[0m\u001b[1;33m)\u001b[0m\u001b[1;33m\u001b[0m\u001b[1;33m\u001b[0m\u001b[0m\n\u001b[0m\u001b[0;32m    251\u001b[0m \u001b[1;33m\u001b[0m\u001b[0m\n\u001b[0;32m    252\u001b[0m     \u001b[1;32mreturn\u001b[0m \u001b[0mread\u001b[0m\u001b[1;33m(\u001b[0m\u001b[0mpath\u001b[0m\u001b[1;33m)\u001b[0m\u001b[1;33m\u001b[0m\u001b[1;33m\u001b[0m\u001b[0m\n",
      "\u001b[1;32m~\\anaconda3\\lib\\site-packages\\fake_useragent\\utils.py\u001b[0m in \u001b[0;36mupdate\u001b[1;34m(path, use_cache_server, verify_ssl)\u001b[0m\n\u001b[0;32m    243\u001b[0m     \u001b[0mrm\u001b[0m\u001b[1;33m(\u001b[0m\u001b[0mpath\u001b[0m\u001b[1;33m)\u001b[0m\u001b[1;33m\u001b[0m\u001b[1;33m\u001b[0m\u001b[0m\n\u001b[0;32m    244\u001b[0m \u001b[1;33m\u001b[0m\u001b[0m\n\u001b[1;32m--> 245\u001b[1;33m     \u001b[0mwrite\u001b[0m\u001b[1;33m(\u001b[0m\u001b[0mpath\u001b[0m\u001b[1;33m,\u001b[0m \u001b[0mload\u001b[0m\u001b[1;33m(\u001b[0m\u001b[0muse_cache_server\u001b[0m\u001b[1;33m=\u001b[0m\u001b[0muse_cache_server\u001b[0m\u001b[1;33m,\u001b[0m \u001b[0mverify_ssl\u001b[0m\u001b[1;33m=\u001b[0m\u001b[0mverify_ssl\u001b[0m\u001b[1;33m)\u001b[0m\u001b[1;33m)\u001b[0m\u001b[1;33m\u001b[0m\u001b[1;33m\u001b[0m\u001b[0m\n\u001b[0m\u001b[0;32m    246\u001b[0m \u001b[1;33m\u001b[0m\u001b[0m\n\u001b[0;32m    247\u001b[0m \u001b[1;33m\u001b[0m\u001b[0m\n",
      "\u001b[1;32m~\\anaconda3\\lib\\site-packages\\fake_useragent\\utils.py\u001b[0m in \u001b[0;36mload\u001b[1;34m(use_cache_server, verify_ssl)\u001b[0m\n\u001b[0;32m    185\u001b[0m         )\n\u001b[0;32m    186\u001b[0m         \u001b[1;32mtry\u001b[0m\u001b[1;33m:\u001b[0m\u001b[1;33m\u001b[0m\u001b[1;33m\u001b[0m\u001b[0m\n\u001b[1;32m--> 187\u001b[1;33m             ret = json.loads(get(\n\u001b[0m\u001b[0;32m    188\u001b[0m                 \u001b[0msettings\u001b[0m\u001b[1;33m.\u001b[0m\u001b[0mCACHE_SERVER\u001b[0m\u001b[1;33m,\u001b[0m\u001b[1;33m\u001b[0m\u001b[1;33m\u001b[0m\u001b[0m\n\u001b[0;32m    189\u001b[0m                 \u001b[0mverify_ssl\u001b[0m\u001b[1;33m=\u001b[0m\u001b[0mverify_ssl\u001b[0m\u001b[1;33m,\u001b[0m\u001b[1;33m\u001b[0m\u001b[1;33m\u001b[0m\u001b[0m\n",
      "\u001b[1;32m~\\anaconda3\\lib\\site-packages\\fake_useragent\\utils.py\u001b[0m in \u001b[0;36mget\u001b[1;34m(url, verify_ssl)\u001b[0m\n\u001b[0;32m     82\u001b[0m \u001b[1;33m\u001b[0m\u001b[0m\n\u001b[0;32m     83\u001b[0m             \u001b[1;32mif\u001b[0m \u001b[0mattempt\u001b[0m \u001b[1;33m==\u001b[0m \u001b[0msettings\u001b[0m\u001b[1;33m.\u001b[0m\u001b[0mHTTP_RETRIES\u001b[0m\u001b[1;33m:\u001b[0m\u001b[1;33m\u001b[0m\u001b[1;33m\u001b[0m\u001b[0m\n\u001b[1;32m---> 84\u001b[1;33m                 \u001b[1;32mraise\u001b[0m \u001b[0mFakeUserAgentError\u001b[0m\u001b[1;33m(\u001b[0m\u001b[1;34m'Maximum amount of retries reached'\u001b[0m\u001b[1;33m)\u001b[0m\u001b[1;33m\u001b[0m\u001b[1;33m\u001b[0m\u001b[0m\n\u001b[0m\u001b[0;32m     85\u001b[0m             \u001b[1;32melse\u001b[0m\u001b[1;33m:\u001b[0m\u001b[1;33m\u001b[0m\u001b[1;33m\u001b[0m\u001b[0m\n\u001b[0;32m     86\u001b[0m                 logger.debug(\n",
      "\u001b[1;31mFakeUserAgentError\u001b[0m: Maximum amount of retries reached"
     ]
    }
   ],
   "source": [
    "url = \"https://api.sofascore.com/api/v1/unique-tournament/16/season/\"+id+\"/standings/total\"\n",
    "\n",
    "# Store collected data at your OS Temporary Directory (/tmp)\n",
    "ua = UserAgent()\n",
    "\n",
    "# Use 'ua.ie' or 'ua.random' to get User-Agent\n",
    "\n",
    "# user-agent = \"Mozilla/5.0 (X11; Linux x86_64) AppleWebKit/537.36 (KHTML, like Gecko) Chrome/75.0.3770.142 Safari/537.36\"\n",
    "payload = \"\"\n",
    "headers = {\n",
    "    \"authority\": \"api.sofascore.com\",\n",
    "    \"user-agent\": ua.random,\n",
    "    \"accept\": \"*/*\",\n",
    "    \"accept-language\": \"en-GB,en-US;q=0.9,en;q=0.8,es;q=0.7\",\n",
    "    \"cache-control\": \"max-age=0\",\n",
    "    \"if-none-match\": \"W/^\\^f67c1b8fb4^^\",\n",
    "    \"origin\": \"https://www.sofascore.com\",\n",
    "    \"referer\": \"https://www.sofascore.com/\",\n",
    "    \"sec-ch-ua\": \"^\\^Google\"\n",
    "}\n",
    "\n",
    "response_standings = requests.request(\"GET\", url, data=payload, headers=headers)\n",
    "\n",
    "json_standings = response_standings.json()\n",
    "\n",
    "standings_dict = {'Group': [], 'Team': [], 'Position': []}\n",
    "\n",
    "for i in range(len(json_standings['standings'])):\n",
    "    for j in range(len(json_standings['standings'][i]['rows'])):\n",
    "        standings_dict['Group'].append(json_standings['standings'][i]['name'])\n",
    "        standings_dict['Team'].append(json_standings['standings'][i]['rows'][j]['team']['name'])\n",
    "        standings_dict['Position'].append(json_standings['standings'][i]['rows'][j]['position'])\n",
    "\n",
    "phase1_df = pd.DataFrame(standings_dict)\n",
    "\n",
    "phase1_df"
   ]
  },
  {
   "cell_type": "markdown",
   "id": "c46b18a9",
   "metadata": {},
   "source": [
    "The URLs that use the ID of the World Cup Edition that you chose at the start. Please keep in mind that the ID used throughout the links corresponds to the World Cup Edition selected at the start."
   ]
  },
  {
   "cell_type": "code",
   "execution_count": 63,
   "id": "55e8f2fb",
   "metadata": {},
   "outputs": [],
   "source": [
    "import requests\n",
    "\n",
    "# URLs to connect to the API for Round of 16, QF, SF, 3rd Place & Final\n",
    "url_r16 = \"https://api.sofascore.com/api/v1/unique-tournament/16/season/\"+id+\"/events/round/4/slug/18\"\n",
    "url_q4 = \"https://api.sofascore.com/api/v1/unique-tournament/16/season/\"+id+\"/events/round/3/slug/quarterfinals\"\n",
    "url_s2 = \"https://api.sofascore.com/api/v1/unique-tournament/16/season/\"+id+\"/events/round/2/slug/semifinals\"\n",
    "url_3p = \"https://api.sofascore.com/api/v1/unique-tournament/16/season/\"+id+\"/events/round/50/slug/match-for-3rd-place\"\n",
    "url_f1 = \"https://api.sofascore.com/api/v1/unique-tournament/16/season/\"+id+\"/events/round/1/slug/final\"\n",
    "second_phase_url = [url_r16, url_q4, url_s2, url_3p, url_f1]\n",
    "\n",
    "def response(url):\n",
    "    \"\"\"\n",
    "    Function to get the response request from HTML. Parameter: URL of the API. Output: Response request from HTML.\n",
    "    \"\"\"\n",
    "\n",
    "    # Store collected data at your OS Temporary Directory (/tmp)\n",
    "    ua = UserAgent()\n",
    "\n",
    "    payload = \"\"\n",
    "    headers = {\n",
    "        \"authority\": \"api.sofascore.com\",\n",
    "        \"user-agent\": ua.random,\n",
    "        \"accept\": \"*/*\",\n",
    "        \"accept-language\": \"en-GB,en-US;q=0.9,en;q=0.8,es;q=0.7\",\n",
    "        \"cache-control\": \"max-age=0\",\n",
    "        \"origin\": \"https://www.sofascore.com\",\n",
    "        \"referer\": \"https://www.sofascore.com/\",\n",
    "        \"sec-ch-ua\": \"^\\^Google\"\n",
    "    }\n",
    "\n",
    "    response = requests.request(\"GET\", url, data=payload, headers=headers)\n",
    "\n",
    "    return response\n",
    "\n",
    "# Define Dictionary to Append the Scores\n",
    "scores_dict = {'Phase': [], \n",
    "               'HomeTeam': [], 'AwayTeam': [], \n",
    "               'HomeNormalTimeScore': [], 'AwayNormalTimeScore': [], \n",
    "               'HomeOvertimeScore': [], 'AwayOvertimeScore': [],\n",
    "               'HomePenaltiesScore': [], 'AwayPenaltiesScore': []}\n",
    "\n",
    "def scores(url):\n",
    "    \"\"\"\n",
    "    Function to get the scores from the API connection to the URL. Parameter: URL of the API. Output: Scores dictionary based on URL.\n",
    "    \"\"\"\n",
    "\n",
    "    response_scores = response(url)\n",
    "\n",
    "    if response_scores.ok:\n",
    "        json_scores = response_scores.json()\n",
    "\n",
    "        for i in range(len(json_scores['events'])):\n",
    "            scores_dict['Phase'].append(json_scores['events'][i]['roundInfo']['name'])\n",
    "            scores_dict['HomeTeam'].append(json_scores['events'][i]['homeTeam']['name'])\n",
    "            scores_dict['AwayTeam'].append(json_scores['events'][i]['awayTeam']['name'])\n",
    "            scores_dict['HomeNormalTimeScore'].append(int(json_scores['events'][i]['homeScore']['normaltime']))\n",
    "            scores_dict['AwayNormalTimeScore'].append(int(json_scores['events'][i]['awayScore']['normaltime']))\n",
    "            try:\n",
    "                scores_dict['HomeOvertimeScore'].append(int(json_scores['events'][i]['homeScore']['overtime']))\n",
    "                scores_dict['AwayOvertimeScore'].append(int(json_scores['events'][i]['awayScore']['overtime']))\n",
    "            except:\n",
    "                scores_dict['HomeOvertimeScore'].append(0)\n",
    "                scores_dict['AwayOvertimeScore'].append(0)       \n",
    "            try:\n",
    "                scores_dict['HomePenaltiesScore'].append(int(json_scores['events'][i]['homeScore']['penalties']))\n",
    "                scores_dict['AwayPenaltiesScore'].append(int(json_scores['events'][i]['awayScore']['penalties']))\n",
    "            except:\n",
    "                scores_dict['HomePenaltiesScore'].append(0)\n",
    "                scores_dict['AwayPenaltiesScore'].append(0)\n",
    "\n",
    "        return scores_dict\n",
    "\n",
    "    else:\n",
    "        return scores_dict\n",
    "\n",
    "# Initialize Scores DataFrame\n",
    "phase2_df = pd.DataFrame()\n",
    "\n",
    "# Request Only when Second Phase of Tournament Starts\n",
    "r16_string_input = \"03/12/2022\"\n",
    "r16_start = datetime.strptime(r16_string_input, \"%d/%m/%Y\")\n",
    "present = datetime.now()\n",
    "\n",
    "# Ensures Start of Round of 16 before Getting HTML Requests\n",
    "if r16_start.date() <= present.date():\n",
    "    # Append the Scores Dictionary if Response is OK, Otherwise Return the Latest Appended Dictionary\n",
    "    for i in second_phase_url:\n",
    "        scores(i)\n",
    "\n",
    "    phase2_df = pd.DataFrame(scores_dict)\n",
    "\n",
    "    phase2_df['HomeTotalScore'] = phase2_df['HomeNormalTimeScore'] + phase2_df['HomeOvertimeScore'] + phase2_df['HomePenaltiesScore']\n",
    "    phase2_df['AwayTotalScore'] = phase2_df['AwayNormalTimeScore'] + phase2_df['AwayOvertimeScore'] + phase2_df['AwayPenaltiesScore']\n",
    "    phase2_df['TeamQualified'] = phase2_df.apply(lambda x: x['HomeTeam'] if (x['HomeTotalScore'] > x['AwayTotalScore']) else x['AwayTeam'], axis = 1)\n",
    "\n",
    "else:\n",
    "    pass\n",
    "\n",
    "# Second Phase Dataframe\n",
    "phase2_df"
   ]
  }
 ],
 "metadata": {
  "kernelspec": {
   "display_name": "Python 3 (ipykernel)",
   "language": "python",
   "name": "python3"
  },
  "language_info": {
   "codemirror_mode": {
    "name": "ipython",
    "version": 3
   },
   "file_extension": ".py",
   "mimetype": "text/x-python",
   "name": "python",
   "nbconvert_exporter": "python",
   "pygments_lexer": "ipython3",
   "version": "3.9.7"
  },
  "vscode": {
   "interpreter": {
    "hash": "fb833273add3e7c60eb33c0608260b79a61e072ade6f02cc8d07b0a26eef8ab8"
   }
  }
 },
 "nbformat": 4,
 "nbformat_minor": 5
}
